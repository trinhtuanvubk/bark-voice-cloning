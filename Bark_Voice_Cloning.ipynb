{
  "nbformat": 4,
  "nbformat_minor": 0,
  "metadata": {
    "colab": {
      "provenance": [],
      "authorship_tag": "ABX9TyNLzfvzx1fAwOj/BkeNtqNg",
      "include_colab_link": true
    },
    "kernelspec": {
      "name": "python3",
      "display_name": "Python 3"
    },
    "language_info": {
      "name": "python"
    }
  },
  "cells": [
    {
      "cell_type": "markdown",
      "metadata": {
        "id": "view-in-github",
        "colab_type": "text"
      },
      "source": [
        "<a href=\"https://colab.research.google.com/github/trinhtuanvubk/bark-voice-cloning/blob/main/Bark_Voice_Cloning.ipynb\" target=\"_parent\"><img src=\"https://colab.research.google.com/assets/colab-badge.svg\" alt=\"Open In Colab\"/></a>"
      ]
    },
    {
      "cell_type": "markdown",
      "source": [
        "Bark text-to-speech voice cloning."
      ],
      "metadata": {
        "id": "HLNS-gFQxw11"
      }
    },
    {
      "cell_type": "code",
      "execution_count": null,
      "metadata": {
        "id": "NBVzbgIXwzWP"
      },
      "outputs": [],
      "source": [
        "!git clone https://github.com/trinhtuanvubk/bark-voice-cloning.git"
      ]
    },
    {
      "cell_type": "code",
      "source": [
        "import os\n",
        "os.chdir('bark-voice-cloning')"
      ],
      "metadata": {
        "id": "_VKO4KFUyImU"
      },
      "execution_count": null,
      "outputs": []
    },
    {
      "cell_type": "code",
      "source": [
        "!pip install -r requirements.txt"
      ],
      "metadata": {
        "id": "54IoR-kvyMCt"
      },
      "execution_count": null,
      "outputs": []
    },
    {
      "cell_type": "code",
      "source": [
        "large_quant_model = False  # Use the larger pretrained model\n",
        "device = 'cuda'  # 'cuda', 'cpu', 'cuda:0', 0, -1, torch.device('cuda')\n",
        "\n",
        "import numpy as np\n",
        "import torch\n",
        "import torchaudio\n",
        "from encodec import EncodecModel\n",
        "from encodec.utils import convert_audio\n",
        "from hubert.hubert_manager import HuBERTManager\n",
        "from hubert.pre_kmeans_hubert import CustomHubert\n",
        "from hubert.customtokenizer import CustomTokenizer\n",
        "\n",
        "model = ('quantifier_V1_hubert_base_ls960_23.pth', 'tokenizer_large.pth') if large_quant_model else ('quantifier_hubert_base_ls960_14.pth', 'tokenizer.pth')\n",
        "\n",
        "print('Loading HuBERT...')\n",
        "hubert_model = CustomHubert(HuBERTManager.make_sure_hubert_installed(), device=device)\n",
        "print('Loading Quantizer...')\n",
        "quant_model = CustomTokenizer.load_from_checkpoint(HuBERTManager.make_sure_tokenizer_installed(model=model[0], local_file=model[1]), device)\n",
        "print('Loading Encodec...')\n",
        "encodec_model = EncodecModel.encodec_model_24khz()\n",
        "encodec_model.set_target_bandwidth(6.0)\n",
        "encodec_model.to(device)\n",
        "\n",
        "print('Downloaded and loaded models!')"
      ],
      "metadata": {
        "id": "E_BZHKLByuET"
      },
      "execution_count": null,
      "outputs": []
    },
    {
      "cell_type": "code",
      "source": [
        "wav_file = 'voicevn.wav'  # Put the path of the speaker you want to use here.\n",
        "out_file = 'speaker.npz'  # Put the path to save the cloned speaker to here.\n",
        "\n",
        "wav, sr = torchaudio.load(wav_file)\n",
        "\n",
        "wav_hubert = wav.to(device)\n",
        "\n",
        "if wav_hubert.shape[0] == 2:  # Stereo to mono if needed\n",
        "    wav_hubert = wav_hubert.mean(0, keepdim=True)\n",
        "\n",
        "print('Extracting semantics...')\n",
        "semantic_vectors = hubert_model.forward(wav_hubert, input_sample_hz=sr)\n",
        "print('Tokenizing semantics...')\n",
        "semantic_tokens = quant_model.get_token(semantic_vectors)\n",
        "print('Creating coarse and fine prompts...')\n",
        "wav = convert_audio(wav, sr, encodec_model.sample_rate, 1).unsqueeze(0)\n",
        "\n",
        "wav = wav.to(device)\n",
        "\n",
        "with torch.no_grad():\n",
        "    encoded_frames = encodec_model.encode(wav)\n",
        "codes = torch.cat([encoded[0] for encoded in encoded_frames], dim=-1).squeeze()\n",
        "\n",
        "codes = codes.cpu()\n",
        "semantic_tokens = semantic_tokens.cpu()\n",
        "\n",
        "np.savez(out_file,\n",
        "         semantic_prompt=semantic_tokens,\n",
        "         fine_prompt=codes,\n",
        "         coarse_prompt=codes[:2, :]\n",
        "         )\n",
        "\n",
        "print('Done!')"
      ],
      "metadata": {
        "id": "wKy35Ph5yuPE"
      },
      "execution_count": null,
      "outputs": []
    },
    {
      "cell_type": "code",
      "source": [
        "from bark.generation import load_codec_model, generate_text_semantic\n",
        "from encodec.utils import convert_audio\n",
        "\n",
        "import torchaudio\n",
        "import torch\n",
        "\n",
        "device = 'cuda' # or 'cpu'\n",
        "model = load_codec_model(use_gpu=True if device == 'cuda' else False)"
      ],
      "metadata": {
        "id": "H3apNyGtyXT3"
      },
      "execution_count": null,
      "outputs": []
    },
    {
      "cell_type": "code",
      "source": [
        "from bark.api import generate_audio\n",
        "from transformers import BertTokenizer\n",
        "from bark.generation import SAMPLE_RATE, preload_models, codec_decode, generate_coarse, generate_fine, generate_text_semantic\n",
        "\n",
        "# Enter your prompt and speaker here\n",
        "text_prompt = \"Hello, my name is Serpy. And, uh — and I like pizza. [laughs]\"\n",
        "voice_name = \"speaker\" # use your custom voice name here if you have one"
      ],
      "metadata": {
        "id": "UaVn9hQ-yfXg"
      },
      "execution_count": null,
      "outputs": []
    },
    {
      "cell_type": "code",
      "source": [
        "# download and load all models\n",
        "preload_models(\n",
        "    text_use_gpu=True,\n",
        "    text_use_small=False,\n",
        "    coarse_use_gpu=True,\n",
        "    coarse_use_small=False,\n",
        "    fine_use_gpu=True,\n",
        "    fine_use_small=False,\n",
        "    codec_use_gpu=True,\n",
        "    force_reload=False,\n",
        "    path=\"models\"\n",
        ")"
      ],
      "metadata": {
        "id": "YgnpC6aLzTyo"
      },
      "execution_count": null,
      "outputs": []
    },
    {
      "cell_type": "code",
      "source": [
        "# simple generation\n",
        "audio_array = generate_audio(text_prompt, history_prompt=voice_name, text_temp=0.7, waveform_temp=0.7)"
      ],
      "metadata": {
        "id": "8B8FraX1zVu4"
      },
      "execution_count": null,
      "outputs": []
    },
    {
      "cell_type": "code",
      "source": [
        "# generation with more control\n",
        "x_semantic = generate_text_semantic(\n",
        "    text_prompt,\n",
        "    history_prompt=voice_name,\n",
        "    temp=0.7,\n",
        "    top_k=50,\n",
        "    top_p=0.95,\n",
        ")\n",
        "\n",
        "x_coarse_gen = generate_coarse(\n",
        "    x_semantic,\n",
        "    history_prompt=voice_name,\n",
        "    temp=0.7,\n",
        "    top_k=50,\n",
        "    top_p=0.95,\n",
        ")\n",
        "x_fine_gen = generate_fine(\n",
        "    x_coarse_gen,\n",
        "    history_prompt=voice_name,\n",
        "    temp=0.5,\n",
        ")\n",
        "audio_array = codec_decode(x_fine_gen)"
      ],
      "metadata": {
        "id": "KDf_b9EIzXqB"
      },
      "execution_count": null,
      "outputs": []
    },
    {
      "cell_type": "code",
      "source": [
        "from IPython.display import Audio\n",
        "# play audio\n",
        "Audio(audio_array, rate=SAMPLE_RATE)"
      ],
      "metadata": {
        "id": "D5quS5lOzZsR"
      },
      "execution_count": null,
      "outputs": []
    },
    {
      "cell_type": "code",
      "source": [
        "from scipy.io.wavfile import write as write_wav\n",
        "# save audio\n",
        "filepath = \"audio.wav\" # change this to your desired output path\n",
        "write_wav(filepath, SAMPLE_RATE, audio_array)"
      ],
      "metadata": {
        "id": "xUBUAHCrzbWB"
      },
      "execution_count": null,
      "outputs": []
    }
  ]
}